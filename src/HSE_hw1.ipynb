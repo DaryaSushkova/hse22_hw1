{
  "nbformat": 4,
  "nbformat_minor": 0,
  "metadata": {
    "colab": {
      "provenance": [],
      "collapsed_sections": []
    },
    "kernelspec": {
      "name": "python3",
      "display_name": "Python 3"
    },
    "language_info": {
      "name": "python"
    }
  },
  "cells": [
    {
      "cell_type": "code",
      "source": [
        "# Загрузка fastaparser для анализа файлов расширения .fa\n",
        "%pip install fastaparser"
      ],
      "metadata": {
        "colab": {
          "base_uri": "https://localhost:8080/"
        },
        "id": "Q8cKqVChxxhw",
        "outputId": "ce91bb80-42e7-4789-bf50-5d8d7cac4c41"
      },
      "execution_count": 7,
      "outputs": [
        {
          "output_type": "stream",
          "name": "stdout",
          "text": [
            "Looking in indexes: https://pypi.org/simple, https://us-python.pkg.dev/colab-wheels/public/simple/\n",
            "Requirement already satisfied: fastaparser in /usr/local/lib/python3.7/dist-packages (1.1.1)\n"
          ]
        }
      ]
    },
    {
      "cell_type": "code",
      "execution_count": 8,
      "metadata": {
        "id": "m_RPn7tSq_R6"
      },
      "outputs": [],
      "source": [
        "# Импорт необходимых для работы пакетов\n",
        "import fastaparser as fst\n",
        "import pandas as pd\n",
        "import re"
      ]
    },
    {
      "cell_type": "markdown",
      "source": [
        "Перечень функций для анализа:"
      ],
      "metadata": {
        "id": "WwJ-2qudNdYk"
      }
    },
    {
      "cell_type": "code",
      "source": [
        "# Создание pandas.DataFrame на основе файла .fa\n",
        "def df_parser(file_path):\n",
        "    with open(file_path, \"r\") as file:\n",
        "        # Используем быстрый способ парсинга, он позволяет получить всю необходимую информацию быстрее.\n",
        "        reader = fst.Reader(file, parse_method = 'quick')\n",
        "        df = pd.DataFrame(columns = ['Sequence', 'Length'])\n",
        "        # Перебираем объекты FastaSequence и формируем DataFrame.\n",
        "        for seq in reader:\n",
        "            df.loc[seq.header, 'Sequence'] = seq.sequence  # Сама последовательность\n",
        "            df.loc[seq.header, 'Length'] = len(seq.sequence)  # Длина последовательности\n",
        "    # Используем сортировку ПО УБЫВАНИЮ для дальнейшего рассчета 50N.\n",
        "    # Также самый длинный скаффолд окажется первым элементом фрейма.\n",
        "    return df.sort_values(by = 'Length', ascending = False)\n",
        "\n",
        "# Получение результата на основе анализа полученного DataFrame.\n",
        "def analysis(df):\n",
        "    print(\"Общее количество: \", len(df))\n",
        "    print(\"Общая длина: \", df.Length.sum())\n",
        "    print(\"Самая большая длина: \", df.Length[0])\n",
        "    # Расчет 50N\n",
        "    index = 1\n",
        "    amount = df.Length[0]\n",
        "    # Пока текущая сумма не менее половины общей длины всех контигов сборки.\n",
        "    while (amount < df.Length.sum() / 2):\n",
        "        amount += df.Length[index]\n",
        "        index += 1\n",
        "    print(\"N50: \", df.Length[index - 1])\n",
        "\n",
        "# Подсчет гэпов в последовательности. \n",
        "def gaps_count(sequence):\n",
        "    # Используем регулярное выражение для поисков участков из N.\n",
        "    print(\"Количество гэпов: \", len(re.findall(\"N+\", sequence)))\n",
        "    print(\"Общая длина гэпов: \", sequence.count(\"N\"))"
      ],
      "metadata": {
        "id": "hs4psmRMsXYh"
      },
      "execution_count": 9,
      "outputs": []
    },
    {
      "cell_type": "markdown",
      "source": [
        "Произведение расчетов.\n",
        "Код использовался для двух геномов поочередно, чтобы не загромождать ноутбук."
      ],
      "metadata": {
        "id": "-0QK9I0LNoB3"
      }
    },
    {
      "cell_type": "code",
      "source": [
        "# Основная программа.\n",
        "contigs = df_parser('Poil_contig.fa')\n",
        "scaffolds = df_parser('Poil_scaffold.fa')\n",
        "gapClosed = df_parser('Poil_gapClosed.fa')\n",
        "\n",
        "print(\"Анализ контигов:\")\n",
        "analysis(contigs)\n",
        "print(\"\\nАнализ скаффолдов:\")\n",
        "analysis(scaffolds)\n",
        "print('\\nАнализ гэпов для самого длинного скаффолда:')\n",
        "gaps_count(scaffolds.Sequence[0])\n",
        "\n",
        "print('\\n---ПОСЛЕ УМЕНЬШЕНИЯ КОЛИЧЕСТВА ГЭПОВ---\\n')\n",
        "print(\"Анализ скаффолдов:\")\n",
        "analysis(gapClosed)\n",
        "print('\\nАнализ гэпов для самого длинного скаффолда:')\n",
        "gaps_count(gapClosed.Sequence[0])"
      ],
      "metadata": {
        "id": "Lcnh4V4E2fgJ",
        "colab": {
          "base_uri": "https://localhost:8080/"
        },
        "outputId": "8aff86b9-1869-4f6f-a34e-1c71f54ba684"
      },
      "execution_count": 10,
      "outputs": [
        {
          "output_type": "stream",
          "name": "stdout",
          "text": [
            "Анализ контигов:\n",
            "Общее количество:  602\n",
            "Общая длина:  3924567\n",
            "Самая большая длина:  179307\n",
            "N50:  55038\n",
            "\n",
            "Анализ скаффолдов:\n",
            "Общее количество:  69\n",
            "Общая длина:  3875426\n",
            "Самая большая длина:  3834374\n",
            "N50:  3834374\n",
            "\n",
            "Анализ гэпов для самого длинного скаффолда:\n",
            "Количество гэпов:  60\n",
            "Общая длина гэпов:  6534\n",
            "\n",
            "---ПОСЛЕ УМЕНЬШЕНИЯ КОЛИЧЕСТВА ГЭПОВ---\n",
            "\n",
            "Анализ скаффолдов:\n",
            "Общее количество:  69\n",
            "Общая длина:  3926639\n",
            "Самая большая длина:  3885251\n",
            "N50:  3885251\n",
            "\n",
            "Анализ гэпов для самого длинного скаффолда:\n",
            "Количество гэпов:  9\n",
            "Общая длина гэпов:  2003\n"
          ]
        }
      ]
    },
    {
      "cell_type": "code",
      "source": [
        "# Запись самого длинного скаффолда в файл.\n",
        "def write_scaffold(file_path):\n",
        "  with open(file_path, 'w') as file:\n",
        "    writer = fst.Writer(file)\n",
        "    writer.writefasta((gapClosed.index[0], gapClosed.Sequence[0]))\n",
        "\n",
        "write_scaffold('longest.fasta')"
      ],
      "metadata": {
        "id": "MqX0uo7GJ9Yi"
      },
      "execution_count": 11,
      "outputs": []
    }
  ]
}